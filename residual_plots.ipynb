{
 "cells": [
  {
   "cell_type": "code",
   "execution_count": 7,
   "metadata": {},
   "outputs": [],
   "source": [
    "import numpy as np\n",
    "import matplotlib.pyplot as plt\n",
    "from classy import Class  \n",
    "import math"
   ]
  },
  {
   "cell_type": "code",
   "execution_count": 8,
   "metadata": {},
   "outputs": [],
   "source": [
    "n_power_1 = 0\n",
    "dm_mass_1 =  0 #GeV\n",
    "sigma_dmb_1 = 0 \n",
    "l_2 = 5000\n",
    "\n",
    "n_power_2 = 2\n",
    "dm_mass_2 =  100 #GeV\n",
    "sigma_dmb_2 = 2.6912304962132555e-18 #SO\n",
    "l_1 = 5000"
   ]
  },
  {
   "cell_type": "code",
   "execution_count": 9,
   "metadata": {},
   "outputs": [
    {
     "name": "stdout",
     "output_type": "stream",
     "text": [
      "The history saving thread hit an unexpected error (OperationalError('database is locked')).History will not be written to the database.\n"
     ]
    }
   ],
   "source": [
    "params_1 = {'output': 'tCl pCl lCl','l_max_scalars': l_1,'lensing': 'yes',\n",
    "                    'omega_dmb': 0.12,\n",
    "                    'h': 0.6730804,\n",
    "                    'omega_b': 0.0224,\n",
    "                    'A_s': 2.2e-9,\n",
    "                    'n_s': 0.96,\n",
    "                    'tau_reio': 0.07,\n",
    "                    'omega_cdm' :1e-22,\n",
    "                    'm_dmb': dm_mass_1,'n_dmb': n_power_1,'sigma_dmb': sigma_dmb_1,\n",
    "                    'N_ur': 2.0328,'N_ncdm': 1,'m_ncdm': 0.06,'T_ncdm':0.71611,\n",
    "                    'reionization_optical_depth_tol': 1e-07,\n",
    "                    'perturb_sampling_stepsize':0.01,\n",
    "                    'k_max_tau0_over_l_max' : 6,'gauge' : 'synchronous'}\n",
    "    \n",
    "params_2 = {'output': 'tCl pCl lCl','l_max_scalars': l_2,'lensing': 'yes',\n",
    "                    'omega_dmb': 0.12,\n",
    "                    'h': 0.6730804,\n",
    "                    'omega_b': 0.0224,\n",
    "                    'A_s': 2.2e-9,\n",
    "                    'n_s': 0.96,\n",
    "                    'tau_reio': 0.07,\n",
    "                    'omega_cdm' :1e-22,\n",
    "                    'm_dmb': dm_mass_2,'n_dmb': n_power_2,'sigma_dmb': sigma_dmb_2,\n",
    "                    'N_ur': 2.0328,'N_ncdm': 1,'m_ncdm': 0.06,'T_ncdm':0.71611,\n",
    "                    'reionization_optical_depth_tol': 1e-07,\n",
    "                     'perturb_sampling_stepsize':0.01,\n",
    "                     'k_max_tau0_over_l_max' : 6,'gauge' : 'synchronous'}\n",
    "M1 = Class()\n",
    "M1.set(params_1)\n",
    "M1.compute()\n",
    "cl_tot_1 = M1.lensed_cl(l_1)\n",
    "M1.struct_cleanup()\n",
    "M1.empty()\n",
    "cl_TT_1 = cl_tot_1['tt']\n",
    "ell_1 = cl_tot_1['ell']\n",
    "\n",
    "M2 = Class()\n",
    "M2.set(params_2)\n",
    "M2.compute()\n",
    "cl_tot_2 = M2.lensed_cl(l_2)\n",
    "M2.struct_cleanup()\n",
    "M2.empty()\n",
    "cl_TT_2 = cl_tot_2['tt']\n",
    "ell_2 = cl_tot_2['ell']"
   ]
  },
  {
   "cell_type": "code",
   "execution_count": 23,
   "metadata": {},
   "outputs": [
    {
     "name": "stderr",
     "output_type": "stream",
     "text": [
      "<ipython-input-23-600122002074>:2: RuntimeWarning: invalid value encountered in true_divide\n",
      "  plt.plot( 100*(cl_TT_1 - cl_TT_2) /cl_TT_1)\n"
     ]
    },
    {
     "data": {
      "image/png": "[encoded data removed]",
      "text/plain": [
       "<Figure size 432x288 with 1 Axes>"
      ]
     },
     "metadata": {
      "needs_background": "light"
     },
     "output_type": "display_data"
    }
   ],
   "source": [
    "#fig, ax = plt.subplots(figsize=(11, 6))\n",
    "plt.plot( 100*(cl_TT_1 - cl_TT_2) /cl_TT_1)\n",
    "\n",
    "\n",
    "#plt.ylabel(r'$(\\partial C_{\\ell}^{TT} / \\partial \\sigma_{dmeff}) / C_{\\ell}^{TT}$',size=20)\n",
    "#plt.xlabel(r'$\\ell$',size=20)\n",
    "#plt.legend(loc='upper left', frameon=False)\n",
    "plt.xlim([2, 2500])\n",
    "plt.ylim(0,0.02)\n",
    "\n",
    "plt.show()\n",
    "#fig.savefig(\"derivative_vs_stepsize_1Gev_n=4.png\") "
   ]
  },
  {
   "cell_type": "code",
   "execution_count": null,
   "metadata": {},
   "outputs": [],
   "source": []
  }
 ],
 "metadata": {
  "kernelspec": {
   "display_name": "Python 3",
   "language": "python",
   "name": "python3"
  },
  "language_info": {
   "codemirror_mode": {
    "name": "ipython",
    "version": 3
   },
   "file_extension": ".py",
   "mimetype": "text/x-python",
   "name": "python",
   "nbconvert_exporter": "python",
   "pygments_lexer": "ipython3",
   "version": "3.8.3"
  }
 },
 "nbformat": 4,
 "nbformat_minor": 4
}
