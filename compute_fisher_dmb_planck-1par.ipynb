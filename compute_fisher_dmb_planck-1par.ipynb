{
 "cells": [
  {
   "cell_type": "code",
   "execution_count": 1,
   "metadata": {},
   "outputs": [],
   "source": [
    "import numpy as np\n",
    "import matplotlib.pyplot as plt\n",
    "from classy import Class  \n",
    "import math\n",
    "from numpy.linalg import inv\n",
    "from IPython.display import Image"
   ]
  },
  {
   "cell_type": "code",
   "execution_count": 2,
   "metadata": {},
   "outputs": [
    {
     "name": "stdout",
     "output_type": "stream",
     "text": [
      "Starting Time = 08:14:19\n"
     ]
    }
   ],
   "source": [
    "f_sky = 0.65\n",
    "n_power = 0\n",
    "dm_mass = 1 #GeV\n",
    "step_size_cross_section = 2e-27\n",
    "Tcmb = 2.7255 #2.726\n",
    "l_min = 2\n",
    "l_max = 2500\n",
    "relative_bulk_velocity = 0.\n",
    "\n",
    "list_param = ['sigma_dmb']\n",
    "list_fiducial = [0.0]\n",
    "list_step = [step_size_cross_section]\n",
    "list_param_step = list(zip(list_param, list_step))\n",
    "\n",
    "#2e-26 * pow(dm_mass,0.15) <- n=0 \n",
    "#4e-19 * pow(dm_mass,0.70) <- n=2 for 1e-5 and 1e-4: 4e-19 * pow(dm_mass,1.2)\n",
    "#6e-13 * pow(dm_mass,1.25) <- n=4 \n",
    "#8e-7 * pow(dm_mass,1.3)   <- n=6 \n",
    "#3e-34 * pow(dm_mass,0.5)  <- n=-2\n",
    "\n",
    "import time\n",
    "start_time = time.time()\n",
    "from datetime import datetime\n",
    "now = datetime.now()\n",
    "current_time = now.strftime(\"%H:%M:%S\")\n",
    "print(\"Starting Time =\", current_time)"
   ]
  },
  {
   "cell_type": "code",
   "execution_count": 3,
   "metadata": {},
   "outputs": [],
   "source": [
    "# Define the CLASS input dictionary, use defaults\n",
    "params = {\n",
    "    'output': 'tCl pCl lCl,','l_max_scalars': 2500,\n",
    "    'omega_b': 0.0224,\n",
    "    'omega_dmb': 0.12,\n",
    "    'h': 0.6730804,\n",
    "    'A_s' : 2.2e-9,\n",
    "    'n_s' : 0.96, \n",
    "    'tau_reio' : 0.07,\n",
    "    'sigma_dmb': list_fiducial[0],\n",
    "    'm_dmb': dm_mass,\n",
    "    'omega_cdm' : 1e-22,\n",
    "    'n_dmb': n_power,\n",
    "    'N_ur': 2.0328,\n",
    "    'N_ncdm': 1,\n",
    "    'm_ncdm': 0.06,\n",
    "    'T_ncdm':0.71611,\n",
    "    'Vrel_dmb': relative_bulk_velocity\n",
    "}\n",
    "\n",
    "\n",
    "\n",
    "# The usual CLASS code for computing C_l - fiducial only:\n",
    "cosmo = Class()\n",
    "cosmo.set(params)\n",
    "cosmo.compute()\n",
    "fiducial = cosmo.raw_cl(2500)\n",
    "cosmo.struct_cleanup()\n",
    "cosmo.empty()\n",
    "ell = fiducial['ell']\n",
    "\n",
    "Cl_est_kk = []\n",
    "for i in ell:\n",
    "    if i < 2:\n",
    "        Cl_est_kk.append(0)\n",
    "    else:\n",
    "        Cl_est_kk.append(1/4*(math.factorial(i+2)/math.factorial(i-2))*fiducial['pp'][i]) #unitless\n",
    "        \n",
    "Cl_kk = []\n",
    "for i in ell:\n",
    "    if i < 2:\n",
    "        Cl_kk.append(0)\n",
    "    else:\n",
    "        Cl_kk.append(1/4*(math.factorial(i+2)/math.factorial(i-2))*fiducial['pp'][i]) #uK^2    \n",
    "        "
   ]
  },
  {
   "cell_type": "code",
   "execution_count": 4,
   "metadata": {},
   "outputs": [],
   "source": [
    "#reading each line from file and replacing \"-\" by \",\"\n",
    "data = np.loadtxt(\"noise/planck_noise_k_fishchips.txt\", delimiter = \" \")\n",
    "N_KK = data[:,3]\n",
    "N_TT_fishchips = data[:,1] #in units of uK^2\n",
    "N_EE_fishchips = data[:,2]\n",
    "\n",
    "plancknoise = np.load('noise/Planck_noise.npy')\n",
    "nl_tt_planck = plancknoise[0]  #in units of uK^2\n",
    "nl_ee_planck = plancknoise[1]\n",
    "nl_kk_planck = plancknoise[2]\n",
    "\n",
    "Nl_tt = nl_tt_planck /((1.0e6*Tcmb)**2) #unit less - using these in fisher matrix\n",
    "Nl_ee = nl_ee_planck /((1.0e6*Tcmb)**2)\n",
    "Nl_kk = nl_kk_planck #/((1.0e6*Tcmb)**2)"
   ]
  },
  {
   "cell_type": "code",
   "execution_count": 5,
   "metadata": {},
   "outputs": [
    {
     "name": "stdout",
     "output_type": "stream",
     "text": [
      "[1.00000000e+100 1.00000000e+100 1.00000000e+100 ... 5.84297951e-006\n",
      " 5.85028862e-006 5.85759774e-006]\n"
     ]
    }
   ],
   "source": [
    "print(Nl_kk)"
   ]
  },
  {
   "cell_type": "code",
   "execution_count": 6,
   "metadata": {},
   "outputs": [
    {
     "data": {
      "image/png": "[encoded data removed]",
      "text/plain": [
       "<Figure size 432x288 with 1 Axes>"
      ]
     },
     "metadata": {
      "needs_background": "light"
     },
     "output_type": "display_data"
    }
   ],
   "source": [
    "plt.plot(Nl_tt , 'k--',label=\"nl_tt\")\n",
    "plt.plot(Nl_ee , 'b--',label=\"nl_ee\")\n",
    "plt.plot(fiducial['tt'], 'k-',label=\"Cl_tt\")\n",
    "plt.plot(fiducial['ee'], 'b-',label=\"Cl_ee\")\n",
    "plt.plot(Cl_est_kk, 'r-',label=\"Cl_kk\")\n",
    "plt.plot(Nl_kk , 'r--',label=\"nl_kk\")\n",
    "plt.yscale('log')\n",
    "plt.ylim(1e-9,1e-4)\n",
    "plt.xlim(0,2500)\n",
    "plt.legend(loc=\"upper right\")\n",
    "plt.title('planck - Cl_tt + nl_tt  n=-4 1 GeV')\n",
    "plt.show()"
   ]
  },
  {
   "cell_type": "code",
   "execution_count": 7,
   "metadata": {},
   "outputs": [],
   "source": [
    "sT = (33. * (np.pi/60./180. ))/(1.0e6*Tcmb) #Unitless to match fiducal Cl's\n",
    "sP = (56. * (np.pi/60./180. ))/(1.0e6*Tcmb) #Unitless to match fiducal Cl's\n",
    "f_sky = 0.65\n",
    "theta_fwhm = 7. * (np.pi/60./180.)\n",
    "\n",
    "l_min = 2\n",
    "l_max = 2500\n",
    "\n",
    "from scipy.special import expit\n",
    "\n",
    "N_TT = np.zeros(l_max+1, 'float64')\n",
    "N_EE = np.zeros(l_max+1, 'float64')\n",
    "\n",
    "for l in range(l_min , l_max+1):\n",
    "            N_TT[l] = 0\n",
    "            N_TT[l] += sT**-2 *\\\n",
    "                    np.exp(\n",
    "                        -l*(l+1)*theta_fwhm**2/8./np.log(2.))\n",
    "            N_TT[l] = 1/N_TT[l]\n",
    "            N_EE[l] = 0\n",
    "            N_EE[l] += sP**-2 *\\\n",
    "                    np.exp(\n",
    "                        -l*(l+1)*theta_fwhm**2/8./np.log(2.))\n",
    "            N_EE[l] = 1/N_EE[l]\n",
    "N_TT[ell < l_min] = 1e100\n",
    "N_TT[ell > l_max] = 1e100\n",
    "N_EE[ell < l_min] = 1e100\n",
    "N_EE[ell > l_max] = 1e100"
   ]
  },
  {
   "cell_type": "code",
   "execution_count": 8,
   "metadata": {},
   "outputs": [
    {
     "data": {
      "text/plain": [
       "'a = np.asarray([N_TT, N_EE])\\nnp.savetxt(\"noise/noise_planck.csv\", a, delimiter=\",\")'"
      ]
     },
     "execution_count": 8,
     "metadata": {},
     "output_type": "execute_result"
    }
   ],
   "source": [
    "'''a = np.asarray([N_TT, N_EE])\n",
    "np.savetxt(\"noise/noise_planck.csv\", a, delimiter=\",\")'''"
   ]
  },
  {
   "cell_type": "code",
   "execution_count": 9,
   "metadata": {},
   "outputs": [
    {
     "data": {
      "image/png": "[encoded data removed]",
      "text/plain": [
       "<Figure size 432x288 with 1 Axes>"
      ]
     },
     "metadata": {
      "needs_background": "light"
     },
     "output_type": "display_data"
    }
   ],
   "source": [
    "plt.plot(N_TT , 'k--',label=\"nl_tt\")\n",
    "plt.plot(Nl_tt , 'g--',label=\"nl_tt\")\n",
    "plt.plot(N_EE , 'b--',label=\"nl_ee\")\n",
    "plt.plot(fiducial['tt'], 'k-',label=\"Cl_tt\")\n",
    "plt.plot(fiducial['ee'], 'b-',label=\"Cl_ee\")\n",
    "plt.plot(Cl_est_kk, 'r-',label=\"Cl_kk\")\n",
    "plt.plot(Nl_kk , 'r--',label=\"nl_kk\")\n",
    "plt.yscale('log')\n",
    "plt.ylim(1e-23,1e-4)\n",
    "plt.xlim(0,2500)\n",
    "plt.legend(loc=\"upper right\")\n",
    "plt.title('planck - Cl_tt + nl_tt  n=-4 1 GeV')\n",
    "plt.show()"
   ]
  },
  {
   "cell_type": "code",
   "execution_count": 10,
   "metadata": {},
   "outputs": [
    {
     "data": {
      "image/png": "[encoded data removed]",
      "text/plain": [
       "<Figure size 432x288 with 1 Axes>"
      ]
     },
     "metadata": {
      "needs_background": "light"
     },
     "output_type": "display_data"
    }
   ],
   "source": [
    "Cl_tt = fiducial['tt']* (2.72*1e6)**2\n",
    "Cl_ee = fiducial['ee']* (2.72*1e6)**2\n",
    "\n",
    "plt.plot(Cl_tt, 'b-',label=\"Cl_tt [uK]^2\")\n",
    "plt.plot(Cl_ee, 'y-',label=\"Cl_ee [uK]^2\")\n",
    "plt.plot(nl_tt_planck, 'b--',label=\"Noise tt [uK]^2\")\n",
    "plt.plot(nl_ee_planck, 'y--',label=\"Noise tt [uK]^2\")\n",
    "\n",
    "plt.yscale('log')\n",
    "plt.ylim(1e-6,1e4)\n",
    "plt.xlim(2,2500)\n",
    "plt.legend(loc=\"upper right\")\n",
    "plt.title('C_ls + noise planck')\n",
    "#plt.savefig(\"C_l_compare_n_0_1GeV_planck.png\")\n",
    "plt.show()"
   ]
  },
  {
   "cell_type": "code",
   "execution_count": 11,
   "metadata": {},
   "outputs": [],
   "source": [
    "#For right and left C_l's:\n",
    "def utility_function_call_CLASS(input_dict, l_max=2500):\n",
    "    \"\"\"Compute Cl with this utility function, repeat less code.\"\"\"\n",
    "    cosmo = Class()\n",
    "    cosmo.set(input_dict)\n",
    "    cosmo.compute()\n",
    "    temp_cl = cosmo.raw_cl(l_max)\n",
    "    cosmo.struct_cleanup()\n",
    "    cosmo.empty()\n",
    "    return temp_cl"
   ]
  },
  {
   "cell_type": "code",
   "execution_count": 12,
   "metadata": {},
   "outputs": [],
   "source": [
    "def compute_derivative(params, theta, XY, stepsize, fiduc):\n",
    "    left_params = params.copy()\n",
    "    if theta == 'sigma_dmb':\n",
    "        left_params[theta] = params[theta]\n",
    "        right_params = params.copy()\n",
    "        right_params[theta] = params[theta] + stepsize\n",
    "\n",
    "        # get the C_l^XY and then compute the derivative!\n",
    "        cl_XY_left = utility_function_call_CLASS(left_params)[XY]\n",
    "        cl_XY_right = utility_function_call_CLASS(right_params)[XY]\n",
    "        dClXY_dparam = (cl_XY_right - cl_XY_left) / (stepsize)\n",
    "    else:\n",
    "        left_params[theta] = params[theta] - stepsize\n",
    "        right_params = params.copy()\n",
    "        right_params[theta] = params[theta] + stepsize\n",
    "\n",
    "        # get the C_l^XY and then compute the derivative!\n",
    "        cl_XY_left = utility_function_call_CLASS(left_params)[XY]\n",
    "        cl_XY_right = utility_function_call_CLASS(right_params)[XY]\n",
    "        dClXY_dparam = (cl_XY_right - cl_XY_left) / (2 * stepsize)\n",
    "\n",
    "    return dClXY_dparam / fiduc[XY], dClXY_dparam\n",
    "\n",
    "def compute_d_cl(list_param_step, params, XY, fiducial):\n",
    "    der_map = {}\n",
    "    d_cl = {}\n",
    "    for (par, stepsize) in list_param_step:\n",
    "        norm_derivative, derivative = compute_derivative(params, par, XY, stepsize, fiducial)\n",
    "        der_map[par] = norm_derivative\n",
    "        d_cl[par] = derivative\n",
    "    return d_cl\n",
    "\n",
    "def compute_d_cl_der_map(list_param_step, params, XY, fiducial):\n",
    "    der_map = {}\n",
    "    d_cl = {}\n",
    "    for (par, stepsize) in list_param_step:\n",
    "        norm_derivative, derivative = compute_derivative(params, par, XY, stepsize, fiducial)\n",
    "        der_map[par] = norm_derivative\n",
    "        d_cl[par] = derivative\n",
    "    return d_cl, der_map"
   ]
  },
  {
   "cell_type": "code",
   "execution_count": 14,
   "metadata": {},
   "outputs": [
    {
     "data": {
      "text/plain": [
       "'#Plotting Derivatives\\ndict_params, dict_norm_der = compute_d_cl_der_map(list_param_step, params, \\'tt\\', fiducial)\\nfig, axs = plt.subplots(2, 4, figsize=(14,6))\\naxs[0, 0].plot(dict_norm_der[\\'omega_b\\'])\\naxs[0, 0].set_title(\\'omega_b\\')\\naxs[0, 1].plot(dict_norm_der[\\'omega_cdm\\'], \\'tab:orange\\')\\naxs[0, 1].set_title(r\\'$\\\\Omega_{cdm}$\\')\\naxs[0, 2].plot(dict_norm_der[\\'h\\'], \\'tab:brown\\')\\naxs[0, 2].set_title(\\'h\\')\\naxs[0, 3].plot(dict_norm_der[\\'A_s\\'], \\'tab:green\\')\\naxs[0, 3].set_title(\\'A_s\\')\\naxs[1, 0].plot(dict_norm_der[\\'n_s\\'], \\'tab:purple\\')\\naxs[1, 0].set_title(r\\'$n_s$\\')\\naxs[1, 1].plot(dict_norm_der[\\'tau_reio\\'], \\'tab:red\\')\\naxs[1, 1].set_title(r\\'$\\tau$\\')\\naxs[1, 2].plot(dict_norm_der[\\'sigma_dmb\\'], \\'tab:red\\')\\naxs[1, 2].set_title(\\'sigma_dmb\\')\\nfor ax in axs.flat:\\n    ax.set(xlabel=r\\'$\\\\ell$\\', ylabel=r\\'$(\\\\partial C_{\\\\ell}^{TT} / \\\\partial \\theta_i) / C_{\\\\ell}^{TT}$\\')\\n# Hide x labels and tick labels for top plots and y ticks for right plots.\\nfor ax in axs.flat:\\n    ax.label_outer() \\n#fig.savefig(\"fisher_plots/derivative_C_l_TT_{}GeV_n={}_planck.png\".format(str(dm_mass),str(n_power)))\\n'"
      ]
     },
     "execution_count": 14,
     "metadata": {},
     "output_type": "execute_result"
    }
   ],
   "source": [
    "'''#Plotting Derivatives\n",
    "dict_params, dict_norm_der = compute_d_cl_der_map(list_param_step, params, 'tt', fiducial)\n",
    "fig, axs = plt.subplots(2, 4, figsize=(14,6))\n",
    "axs[0, 0].plot(dict_norm_der['omega_b'])\n",
    "axs[0, 0].set_title('omega_b')\n",
    "axs[0, 1].plot(dict_norm_der['omega_cdm'], 'tab:orange')\n",
    "axs[0, 1].set_title(r'$\\Omega_{cdm}$')\n",
    "axs[0, 2].plot(dict_norm_der['h'], 'tab:brown')\n",
    "axs[0, 2].set_title('h')\n",
    "axs[0, 3].plot(dict_norm_der['A_s'], 'tab:green')\n",
    "axs[0, 3].set_title('A_s')\n",
    "axs[1, 0].plot(dict_norm_der['n_s'], 'tab:purple')\n",
    "axs[1, 0].set_title(r'$n_s$')\n",
    "axs[1, 1].plot(dict_norm_der['tau_reio'], 'tab:red')\n",
    "axs[1, 1].set_title(r'$\\tau$')\n",
    "axs[1, 2].plot(dict_norm_der['sigma_dmb'], 'tab:red')\n",
    "axs[1, 2].set_title('sigma_dmb')\n",
    "for ax in axs.flat:\n",
    "    ax.set(xlabel=r'$\\ell$', ylabel=r'$(\\partial C_{\\ell}^{TT} / \\partial \\theta_i) / C_{\\ell}^{TT}$')\n",
    "# Hide x labels and tick labels for top plots and y ticks for right plots.\n",
    "for ax in axs.flat:\n",
    "    ax.label_outer() \n",
    "#fig.savefig(\"fisher_plots/derivative_C_l_TT_{}GeV_n={}_planck.png\".format(str(dm_mass),str(n_power)))\n",
    "'''"
   ]
  },
  {
   "cell_type": "code",
   "execution_count": 15,
   "metadata": {},
   "outputs": [
    {
     "name": "stderr",
     "output_type": "stream",
     "text": [
      "<ipython-input-12-7f0aee16fb63>:22: RuntimeWarning: invalid value encountered in true_divide\n",
      "  return dClXY_dparam / fiduc[XY], dClXY_dparam\n"
     ]
    }
   ],
   "source": [
    "dC_lpp = compute_d_cl(list_param_step, params, 'pp', fiducial)\n",
    "\n",
    "def factorial(n):\n",
    "    fact = 1\n",
    "    for i in range(1,n+1): \n",
    "        fact = fact * i \n",
    "    return fact\n",
    "\n",
    "dC_lkk = {}\n",
    "for k, array in dC_lpp.items():\n",
    "    list_a = []\n",
    "    for l, a in enumerate(array):\n",
    "        if l < 2:\n",
    "            list_a.append(0)\n",
    "        else:\n",
    "            list_a.append(1.0/4 * (factorial(l+2)/factorial(l-2)) * a)        \n",
    "    dC_lkk[k] = np.array(list_a)\n",
    "    \n",
    "#print(dC_lkk)"
   ]
  },
  {
   "cell_type": "code",
   "execution_count": 16,
   "metadata": {},
   "outputs": [
    {
     "name": "stderr",
     "output_type": "stream",
     "text": [
      "<ipython-input-12-7f0aee16fb63>:22: RuntimeWarning: invalid value encountered in true_divide\n",
      "  return dClXY_dparam / fiduc[XY], dClXY_dparam\n"
     ]
    }
   ],
   "source": [
    "#unitless for all Cl's and N's:\n",
    "MAT_d_cl = [[compute_d_cl(list_param_step, params, 'tt', fiducial), compute_d_cl(list_param_step, params, 'te', fiducial), 0],\n",
    "            [compute_d_cl(list_param_step, params, 'te', fiducial), compute_d_cl(list_param_step, params, 'ee', fiducial), 0],\n",
    "            [0, 0, dC_lkk]]\n",
    "    \n",
    "MAT_cl = [ [fiducial['tt'] + N_TT, fiducial['te'], 0], \n",
    "           [fiducial['te'], fiducial['ee'] +N_EE, 0],\n",
    "           [0, 0, Cl_est_kk + Nl_kk] ]"
   ]
  },
  {
   "cell_type": "code",
   "execution_count": 17,
   "metadata": {},
   "outputs": [],
   "source": [
    "#for i in list_param:\n",
    "def compute_Q_i(i, l):\n",
    "    d_Cl_i = [[MAT_d_cl[0][0][i][l], MAT_d_cl[0][1][i][l], 0], \n",
    "              [MAT_d_cl[1][0][i][l], MAT_d_cl[1][1][i][l], 0],\n",
    "              [0, 0, MAT_d_cl[2][2][i][l]]]\n",
    "\n",
    "    cl = [[MAT_cl[0][0][l], MAT_cl[0][1][l], 0],\n",
    "          [MAT_cl[1][0][l], MAT_cl[1][1][l], 0],\n",
    "          [0, 0, MAT_cl[2][2][l]]]\n",
    "    Q_i = np.matmul(inv(cl), d_Cl_i)\n",
    "    return Q_i\n",
    "\n",
    "def compute_F_ij(i, j):\n",
    "    F_ij = 0\n",
    "    for l in range(2, 2500):\n",
    "        F_ij += 0.5*(2*l + 1) *f_sky * np.trace(np.matmul(compute_Q_i(i, l), compute_Q_i(j, l)))\n",
    "    return F_ij"
   ]
  },
  {
   "cell_type": "code",
   "execution_count": 18,
   "metadata": {},
   "outputs": [],
   "source": [
    "f_sky = 0.65"
   ]
  },
  {
   "cell_type": "code",
   "execution_count": 19,
   "metadata": {},
   "outputs": [],
   "source": [
    "F =[]\n",
    "for x in list_param:\n",
    "    row = []\n",
    "    for y in list_param:\n",
    "        row.append(compute_F_ij(x, y))\n",
    "    F.append(row)"
   ]
  },
  {
   "cell_type": "code",
   "execution_count": 20,
   "metadata": {},
   "outputs": [
    {
     "name": "stdout",
     "output_type": "stream",
     "text": [
      "sigma_dmb 3.906539109423167e-26\n"
     ]
    }
   ],
   "source": [
    "covar = inv(F)\n",
    "for n, i in enumerate(list_param):\n",
    "    sigma_ii = np.sqrt(covar[n][n])\n",
    "    print(i, sigma_ii)"
   ]
  },
  {
   "cell_type": "code",
   "execution_count": 21,
   "metadata": {},
   "outputs": [
    {
     "name": "stdout",
     "output_type": "stream",
     "text": [
      "generating new axis\n",
      "['sigma_dmb']\n"
     ]
    },
    {
     "ename": "TypeError",
     "evalue": "'AxesSubplot' object is not subscriptable",
     "output_type": "error",
     "traceback": [
      "\u001b[0;31m---------------------------------------------------------------------------\u001b[0m",
      "\u001b[0;31mTypeError\u001b[0m                                 Traceback (most recent call last)",
      "\u001b[0;32m<ipython-input-21-13c96fa49bf2>\u001b[0m in \u001b[0;36m<module>\u001b[0;34m\u001b[0m\n\u001b[1;32m      2\u001b[0m \u001b[0;34m\u001b[0m\u001b[0m\n\u001b[1;32m      3\u001b[0m \u001b[0mcov\u001b[0m \u001b[0;34m=\u001b[0m \u001b[0mnp\u001b[0m\u001b[0;34m.\u001b[0m\u001b[0mlinalg\u001b[0m\u001b[0;34m.\u001b[0m\u001b[0minv\u001b[0m\u001b[0;34m(\u001b[0m\u001b[0mF\u001b[0m\u001b[0;34m)\u001b[0m\u001b[0;34m\u001b[0m\u001b[0;34m\u001b[0m\u001b[0m\n\u001b[0;32m----> 4\u001b[0;31m \u001b[0mfig\u001b[0m\u001b[0;34m,\u001b[0m \u001b[0maxes\u001b[0m \u001b[0;34m=\u001b[0m \u001b[0mfishchips\u001b[0m\u001b[0;34m.\u001b[0m\u001b[0mutil\u001b[0m\u001b[0;34m.\u001b[0m\u001b[0mplot_triangle_base\u001b[0m\u001b[0;34m(\u001b[0m\u001b[0mlist_param\u001b[0m\u001b[0;34m,\u001b[0m \u001b[0mlist_fiducial\u001b[0m\u001b[0;34m,\u001b[0m \u001b[0mcovar\u001b[0m\u001b[0;34m,\u001b[0m \u001b[0mlabels\u001b[0m\u001b[0;34m=\u001b[0m\u001b[0mlist_param\u001b[0m\u001b[0;34m)\u001b[0m\u001b[0;34m;\u001b[0m\u001b[0;34m\u001b[0m\u001b[0;34m\u001b[0m\u001b[0m\n\u001b[0m\u001b[1;32m      5\u001b[0m \u001b[0;34m\u001b[0m\u001b[0m\n\u001b[1;32m      6\u001b[0m \u001b[0;31m#fig.savefig(\"fisher_plots/triagular_ellipses_{}GeV_n={}_planck.png\".format(str(dm_mass),str(n_power)))\u001b[0m\u001b[0;34m\u001b[0m\u001b[0;34m\u001b[0m\u001b[0;34m\u001b[0m\u001b[0m\n",
      "\u001b[0;32m~/fisher_dmb/fishchips/util.py\u001b[0m in \u001b[0;36mplot_triangle_base\u001b[0;34m(params, fiducial, cov, f, ax, positive_definite, labels, scales, ellipse_kwargs1, ellipse_kwargs2, xlabel_kwargs, ylabel_kwargs, fig_kwargs, color_1d)\u001b[0m\n\u001b[1;32m    221\u001b[0m         \u001b[0;32mfor\u001b[0m \u001b[0mjj\u001b[0m \u001b[0;32min\u001b[0m \u001b[0mrange\u001b[0m\u001b[0;34m(\u001b[0m\u001b[0mnparams\u001b[0m\u001b[0;34m)\u001b[0m\u001b[0;34m:\u001b[0m\u001b[0;34m\u001b[0m\u001b[0;34m\u001b[0m\u001b[0m\n\u001b[1;32m    222\u001b[0m             \u001b[0;32mif\u001b[0m \u001b[0mii\u001b[0m \u001b[0;34m==\u001b[0m \u001b[0mjj\u001b[0m\u001b[0;34m:\u001b[0m\u001b[0;34m\u001b[0m\u001b[0;34m\u001b[0m\u001b[0m\n\u001b[0;32m--> 223\u001b[0;31m                 \u001b[0max\u001b[0m\u001b[0;34m[\u001b[0m\u001b[0mjj\u001b[0m\u001b[0;34m,\u001b[0m \u001b[0mii\u001b[0m\u001b[0;34m]\u001b[0m\u001b[0;34m.\u001b[0m\u001b[0mget_yaxis\u001b[0m\u001b[0;34m(\u001b[0m\u001b[0;34m)\u001b[0m\u001b[0;34m.\u001b[0m\u001b[0mset_visible\u001b[0m\u001b[0;34m(\u001b[0m\u001b[0;32mFalse\u001b[0m\u001b[0;34m)\u001b[0m\u001b[0;34m\u001b[0m\u001b[0;34m\u001b[0m\u001b[0m\n\u001b[0m\u001b[1;32m    224\u001b[0m                 \u001b[0;32mif\u001b[0m \u001b[0mii\u001b[0m \u001b[0;34m<\u001b[0m \u001b[0mnparams\u001b[0m\u001b[0;34m-\u001b[0m\u001b[0;36m1\u001b[0m\u001b[0;34m:\u001b[0m\u001b[0;34m\u001b[0m\u001b[0;34m\u001b[0m\u001b[0m\n\u001b[1;32m    225\u001b[0m                     \u001b[0max\u001b[0m\u001b[0;34m[\u001b[0m\u001b[0mjj\u001b[0m\u001b[0;34m,\u001b[0m \u001b[0mii\u001b[0m\u001b[0;34m]\u001b[0m\u001b[0;34m.\u001b[0m\u001b[0mget_xaxis\u001b[0m\u001b[0;34m(\u001b[0m\u001b[0;34m)\u001b[0m\u001b[0;34m.\u001b[0m\u001b[0mset_ticks\u001b[0m\u001b[0;34m(\u001b[0m\u001b[0;34m[\u001b[0m\u001b[0;34m]\u001b[0m\u001b[0;34m)\u001b[0m\u001b[0;34m\u001b[0m\u001b[0;34m\u001b[0m\u001b[0m\n",
      "\u001b[0;31mTypeError\u001b[0m: 'AxesSubplot' object is not subscriptable"
     ]
    },
    {
     "data": {
      "image/png": "[encoded data removed]",
      "text/plain": [
       "<Figure size 576x576 with 1 Axes>"
      ]
     },
     "metadata": {
      "needs_background": "light"
     },
     "output_type": "display_data"
    }
   ],
   "source": [
    "import fishchips.util\n",
    "\n",
    "cov = np.linalg.inv(F)\n",
    "fig, axes = fishchips.util.plot_triangle_base(list_param, list_fiducial, covar, labels=list_param);\n",
    "\n",
    "#fig.savefig(\"fisher_plots/triagular_ellipses_{}GeV_n={}_planck.png\".format(str(dm_mass),str(n_power)))"
   ]
  },
  {
   "cell_type": "code",
   "execution_count": 22,
   "metadata": {},
   "outputs": [],
   "source": [
    "dat = ('n-power=',n_power,'dm_mass=', dm_mass, 'stepsize =', step_size_cross_section,'fisher matrix =', F,i, \"from cov matrix =\",sigma_ii,\"2-sigma =\")"
   ]
  },
  {
   "cell_type": "code",
   "execution_count": 23,
   "metadata": {},
   "outputs": [
    {
     "name": "stdout",
     "output_type": "stream",
     "text": [
      "('n-power=', 0, 'dm_mass=', 1, 'stepsize =', 2e-27, 'fisher matrix =', [[6.552630017438848e+50]], 'sigma_dmb', 'from cov matrix =', 3.906539109423167e-26, '2-sigma =')\n"
     ]
    }
   ],
   "source": [
    "print(dat)"
   ]
  },
  {
   "cell_type": "code",
   "execution_count": 24,
   "metadata": {},
   "outputs": [],
   "source": [
    "outF = open(\"fisher_data/planck_n={}/{}GeV_sigma_dmb.txt\".format(str(n_power),str(dm_mass)), \"w\")\n",
    "for i in dat:\n",
    "  # write line to output file\n",
    "  outF.write(str(i))\n",
    "  outF.write(\"\\n\")\n",
    "outF.close()"
   ]
  },
  {
   "cell_type": "code",
   "execution_count": 25,
   "metadata": {},
   "outputs": [
    {
     "name": "stdout",
     "output_type": "stream",
     "text": [
      "--- 12105.179054021835 seconds ---\n"
     ]
    }
   ],
   "source": [
    "print(\"--- %s seconds ---\" % (time.time() - start_time))"
   ]
  },
  {
   "cell_type": "code",
   "execution_count": null,
   "metadata": {},
   "outputs": [],
   "source": []
  },
  {
   "cell_type": "code",
   "execution_count": null,
   "metadata": {},
   "outputs": [],
   "source": []
  }
 ],
 "metadata": {
  "kernelspec": {
   "display_name": "Python 3",
   "language": "python",
   "name": "python3"
  },
  "language_info": {
   "codemirror_mode": {
    "name": "ipython",
    "version": 3
   },
   "file_extension": ".py",
   "mimetype": "text/x-python",
   "name": "python",
   "nbconvert_exporter": "python",
   "pygments_lexer": "ipython3",
   "version": "3.8.3"
  }
 },
 "nbformat": 4,
 "nbformat_minor": 4
}
