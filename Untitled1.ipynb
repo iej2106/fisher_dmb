{
 "cells": [
  {
   "cell_type": "code",
   "execution_count": 1,
   "metadata": {},
   "outputs": [],
   "source": [
    "import matplotlib\n",
    "import matplotlib.pyplot as plt\n",
    "import numpy as np\n",
    "from classy import Class\n",
    "import math"
   ]
  },
  {
   "cell_type": "code",
   "execution_count": 2,
   "metadata": {},
   "outputs": [],
   "source": [
    "list_param = ['omega_b','omega_cdm', 'h',  'A_s', 'n_s', 'tau_reio','sigma_dmb']\n",
    "list_fiducial = [0.0224, 0.12, 0.6730804,  2.2e-9, 0.96, 0.07, 7.4769685264486805e-28]\n",
    "#list_step = [0.0001,     0.001,    0.004,   0.01e-9, 0.005, 0.02, step_size_cross_section]\n",
    "#list_param_step = list(zip(list_param, list_step))\n",
    "f_sky = 1\n",
    "n_power = 2\n",
    "dm_mass = 1 #GeV\n",
    "Tcmb = 2.7255 #2.726\n",
    "relative_bulk_velocity = 0.\n",
    "\n",
    "params_dmb = {\n",
    "    'output': 'tCl pCl lCl,','l_max_scalars': 5000,\n",
    "    'omega_b': list_fiducial[0],\n",
    "    'omega_dmb': list_fiducial[1],\n",
    "    'h': list_fiducial[2],\n",
    "    'A_s' : list_fiducial[3],'n_s' : list_fiducial[4], 'tau_reio' : list_fiducial[5],'sigma_dmb': list_fiducial[6],\n",
    "    'm_dmb': dm_mass,\n",
    "    'omega_cdm' : 1e-22,\n",
    "    'n_dmb': n_power,\n",
    "    'N_ur': 2.0328,\n",
    "    'N_ncdm': 1,\n",
    "    'm_ncdm': 0.06,\n",
    "    'T_ncdm':0.71611,\n",
    "    'Vrel_dmb': relative_bulk_velocity\n",
    "}\n",
    "params_cdm = {\n",
    "    'output': 'tCl pCl lCl,','l_max_scalars': 5000,\n",
    "    'omega_b': list_fiducial[0],'h': list_fiducial[2],\n",
    "    'A_s' : list_fiducial[3],'n_s' : list_fiducial[4], 'tau_reio' : list_fiducial[5],\n",
    "    'omega_cdm' : 0.12,\n",
    "    'N_ur': 2.0328,\n",
    "    'N_ncdm': 1,\n",
    "    'm_ncdm': 0.06,\n",
    "    'T_ncdm':0.71611\n",
    "    #'Vrel_dmb': relative_bulk_velocity\n",
    "}"
   ]
  },
  {
   "cell_type": "code",
   "execution_count": 3,
   "metadata": {},
   "outputs": [],
   "source": [
    "dmb = Class()\n",
    "dmb.set(params_dmb)\n",
    "dmb.compute()\n",
    "fiducial_dmb = dmb.raw_cl(5000)\n",
    "dmb.struct_cleanup()\n",
    "dmb.empty()\n",
    "ell = fiducial_dmb['ell']\n",
    "\n",
    "cdm = Class()\n",
    "cdm.set(params_cdm)\n",
    "cdm.compute()\n",
    "fiducial_cdm = cdm.raw_cl(5000)\n",
    "cdm.struct_cleanup()\n",
    "cdm.empty()\n",
    "ell = fiducial_cdm['ell']"
   ]
  },
  {
   "cell_type": "code",
   "execution_count": 6,
   "metadata": {},
   "outputs": [
    {
     "name": "stderr",
     "output_type": "stream",
     "text": [
      "<ipython-input-6-3a5a05f00130>:1: RuntimeWarning: invalid value encountered in true_divide\n",
      "  100*(fiducial_dmb['tt']-fiducial_cdm['tt']) /fiducial_cdm['tt']\n"
     ]
    },
    {
     "data": {
      "text/plain": [
       "array([        nan,         nan, -0.00313597, ...,  0.00086974,\n",
       "        0.00087332,  0.00087732])"
      ]
     },
     "execution_count": 6,
     "metadata": {},
     "output_type": "execute_result"
    }
   ],
   "source": [
    "100*(fiducial_dmb['tt']-fiducial_cdm['tt']) /fiducial_cdm['tt']"
   ]
  },
  {
   "cell_type": "code",
   "execution_count": 5,
   "metadata": {},
   "outputs": [
    {
     "name": "stderr",
     "output_type": "stream",
     "text": [
      "<ipython-input-5-9b3b2b9b785c>:1: RuntimeWarning: invalid value encountered in true_divide\n",
      "  plt.plot(100*(fiducial_dmb['tt']-fiducial_cdm['tt']) /fiducial_cdm['tt'], 'k-',label=\"\")\n",
      "No handles with labels found to put in legend.\n"
     ]
    },
    {
     "data": {
      "text/plain": [
       "(-1.0, 1.0)"
      ]
     },
     "execution_count": 5,
     "metadata": {},
     "output_type": "execute_result"
    },
    {
     "data": {
      "image/png": "[encoded data removed]",
      "text/plain": [
       "<Figure size 432x288 with 1 Axes>"
      ]
     },
     "metadata": {
      "needs_background": "light"
     },
     "output_type": "display_data"
    }
   ],
   "source": [
    "plt.plot(100*(fiducial_dmb['tt']-fiducial_cdm['tt']) /fiducial_cdm['tt'], 'k-',label=\"\")\n",
    "#plt.yscale('log')\n",
    "#plt.ylim(1e-9,1e-4)\n",
    "#plt.xlim(0,100)\n",
    "\n",
    "    \n",
    "    \n",
    "plt.ylabel(r'$\\ Residual    \\ C_{\\ell}^{TT}$',size=22)\n",
    "plt.xlabel(r'$\\ell$',size=20)\n",
    "plt.xticks(fontsize=13)\n",
    "plt.yticks(fontsize=13)\n",
    "plt.legend(loc='lower left', frameon=False)\n",
    "plt.xscale('log')\n",
    "plt.xlim([2, 4000])\n",
    "plt.ylim(-1,1)"
   ]
  },
  {
   "cell_type": "code",
   "execution_count": null,
   "metadata": {},
   "outputs": [],
   "source": []
  }
 ],
 "metadata": {
  "kernelspec": {
   "display_name": "Python 3",
   "language": "python",
   "name": "python3"
  },
  "language_info": {
   "codemirror_mode": {
    "name": "ipython",
    "version": 3
   },
   "file_extension": ".py",
   "mimetype": "text/x-python",
   "name": "python",
   "nbconvert_exporter": "python",
   "pygments_lexer": "ipython3",
   "version": "3.8.3"
  }
 },
 "nbformat": 4,
 "nbformat_minor": 4
}
