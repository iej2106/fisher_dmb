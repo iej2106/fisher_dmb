{
 "cells": [
  {
   "cell_type": "code",
   "execution_count": 1,
   "metadata": {},
   "outputs": [],
   "source": [
    "import numpy as np\n",
    "import matplotlib.pyplot as plt\n",
    "from classy import Class\n",
    "import math\n",
    "from numpy.linalg import inv\n",
    "from IPython.display import Image\n",
    "from scipy.special import expit"
   ]
  },
  {
   "cell_type": "code",
   "execution_count": 2,
   "metadata": {},
   "outputs": [
    {
     "name": "stdout",
     "output_type": "stream",
     "text": [
      "Starting Time = 12:47:39\n"
     ]
    }
   ],
   "source": [
    "#INPUT PARAMETERS:\n",
    "n_power = 0\n",
    "dm_mass =  1 #GeV\n",
    "step_size_cross_section = 2e-26 * pow(dm_mass,0.15)\n",
    "f_sky = 0.4\n",
    "theta_fwhm = 1.5 * (np.pi/60./180.)\n",
    "Tcmb = 2.7255 #2.726\n",
    "l_min = 2\n",
    "l_max = 5000\n",
    "#2e-26 * pow(dm_mass,0.15) <- n=0 \n",
    "#4e-19 * pow(dm_mass,0.70) <- n=2 \n",
    "#6e-13 * pow(dm_mass,1.25) <- n=4 \n",
    "#8e-7 * pow(dm_mass,1.3)   <- n=6 \n",
    "#3e-34 * pow(dm_mass,0.5)  <- n=-2\n",
    "list_param = ['omega_b','omega_dmb', 'h',  'A_s', 'n_s', 'tau_reio','sigma_dmb']\n",
    "list_fiducial = [0.0224, 0.12, 0.6730804,  2.2e-9, 0.96, 0.07, 0.0]\n",
    "list_step = [0.0001,     0.001,    0.004,   0.01e-9, 0.005, 0.02, step_size_cross_section]\n",
    "list_param_step = list(zip(list_param, list_step))\n",
    "\n",
    "import time\n",
    "start_time = time.time()\n",
    "from datetime import datetime\n",
    "now = datetime.now()\n",
    "current_time = now.strftime(\"%H:%M:%S\")\n",
    "print(\"Starting Time =\", current_time)"
   ]
  },
  {
   "cell_type": "code",
   "execution_count": 3,
   "metadata": {},
   "outputs": [],
   "source": [
    "# Define the CLASS input dictionary, use defaults\n",
    "params = {\n",
    "    'output': 'tCl pCl lCl','lensing': 'no','l_max_scalars': 2500,\n",
    "    'omega_b': list_fiducial[0],'omega_dmb': list_fiducial[1],'h': list_fiducial[2],'A_s' : list_fiducial[3],'n_s' : list_fiducial[4], 'tau_reio' : list_fiducial[5],'sigma_dmb': list_fiducial[6],\n",
    "    'm_dmb': dm_mass,\n",
    "    'omega_cdm' : 1e-22,\n",
    "    'n_dmb': n_power,\n",
    "    'N_ur': 2.0328,\n",
    "    'N_ncdm': 1,\n",
    "    'm_ncdm': 0.06,\n",
    "    'T_ncdm':0.71611,\n",
    "    'reionization_optical_depth_tol': 1e-07,\n",
    "    'perturb_sampling_stepsize':0.01,\n",
    "    'k_max_tau0_over_l_max' : 6,\n",
    "    'gauge' : 'synchronous'\n",
    "          }\n",
    "\n",
    "# The usual CLASS code for computing C_l - fiducial only:\n",
    "cosmo = Class()\n",
    "cosmo.set(params)\n",
    "cosmo.compute()\n",
    "fiducial = cosmo.raw_cl(2500)\n",
    "cosmo.struct_cleanup()\n",
    "cosmo.empty()\n",
    "ell = fiducial['ell']\n",
    "      \n",
    "Cl_est_kk = []\n",
    "for i in ell:\n",
    "    if i < 2:\n",
    "        Cl_est_kk.append(0)\n",
    "    else:\n",
    "        Cl_est_kk.append((1/4*(math.factorial(i+2)/math.factorial(i-2))*fiducial['pp'][i])) #unitless\n",
    "        \n",
    "a = np.load('noise/CMB_S4_noise.npy') #[uK^]2\n",
    "nl_tt = a[0] /((1.0e6*Tcmb)**2) #make unitless to match fiducial cl's\n",
    "nl_ee = a[1] /((1.0e6*Tcmb)**2)\n",
    "nl_kk = a[2] /((1.0e6*Tcmb)**2)"
   ]
  },
  {
   "cell_type": "code",
   "execution_count": 4,
   "metadata": {},
   "outputs": [
    {
     "ename": "IndexError",
     "evalue": "boolean index did not match indexed array along dimension 0; dimension is 5001 but corresponding boolean dimension is 2501",
     "output_type": "error",
     "traceback": [
      "\u001b[0;31m---------------------------------------------------------------------------\u001b[0m",
      "\u001b[0;31mIndexError\u001b[0m                                Traceback (most recent call last)",
      "\u001b[0;32m<ipython-input-4-3751226ac98c>\u001b[0m in \u001b[0;36m<module>\u001b[0;34m\u001b[0m\n\u001b[1;32m     24\u001b[0m                         -l*(l+1)*theta_fwhm**2/8./np.log(2.))\n\u001b[1;32m     25\u001b[0m             \u001b[0mN_EE\u001b[0m\u001b[0;34m[\u001b[0m\u001b[0ml\u001b[0m\u001b[0;34m]\u001b[0m \u001b[0;34m=\u001b[0m \u001b[0;36m1\u001b[0m\u001b[0;34m/\u001b[0m\u001b[0mN_EE\u001b[0m\u001b[0;34m[\u001b[0m\u001b[0ml\u001b[0m\u001b[0;34m]\u001b[0m\u001b[0;34m\u001b[0m\u001b[0;34m\u001b[0m\u001b[0m\n\u001b[0;32m---> 26\u001b[0;31m \u001b[0mN_TT\u001b[0m\u001b[0;34m[\u001b[0m\u001b[0mell\u001b[0m \u001b[0;34m<\u001b[0m \u001b[0ml_min\u001b[0m\u001b[0;34m]\u001b[0m \u001b[0;34m=\u001b[0m \u001b[0;36m1e100\u001b[0m\u001b[0;34m\u001b[0m\u001b[0;34m\u001b[0m\u001b[0m\n\u001b[0m\u001b[1;32m     27\u001b[0m \u001b[0mN_TT\u001b[0m\u001b[0;34m[\u001b[0m\u001b[0mell\u001b[0m \u001b[0;34m>\u001b[0m \u001b[0ml_max\u001b[0m\u001b[0;34m]\u001b[0m \u001b[0;34m=\u001b[0m \u001b[0;36m1e100\u001b[0m\u001b[0;34m\u001b[0m\u001b[0;34m\u001b[0m\u001b[0m\n\u001b[1;32m     28\u001b[0m \u001b[0mN_EE\u001b[0m\u001b[0;34m[\u001b[0m\u001b[0mell\u001b[0m \u001b[0;34m<\u001b[0m \u001b[0ml_min\u001b[0m\u001b[0;34m]\u001b[0m \u001b[0;34m=\u001b[0m \u001b[0;36m1e100\u001b[0m\u001b[0;34m\u001b[0m\u001b[0;34m\u001b[0m\u001b[0m\n",
      "\u001b[0;31mIndexError\u001b[0m: boolean index did not match indexed array along dimension 0; dimension is 5001 but corresponding boolean dimension is 2501"
     ]
    }
   ],
   "source": [
    "sT = (1. * (np.pi/60./180. ))/(1.0e6*Tcmb) #Unitless to match fiducal Cl's\n",
    "sP = np.sqrt(2)*(1. * (np.pi/60./180. ))/(1.0e6*Tcmb) #Unitless to match fiducal Cl's\n",
    "f_sky = 0.65\n",
    "theta_fwhm = 1.5 * (np.pi/60./180.)\n",
    "\n",
    "l_min = 100\n",
    "l_min = 300\n",
    "l_max = 5000\n",
    "\n",
    "from scipy.special import expit\n",
    "\n",
    "N_TT = np.zeros(l_max+1, 'float64')\n",
    "N_EE = np.zeros(l_max+1, 'float64')\n",
    "\n",
    "for l in range(l_min , l_max+1):\n",
    "            N_TT[l] = 0\n",
    "            N_TT[l] += sT**-2 *\\\n",
    "                    np.exp(\n",
    "                        -l*(l+1)*theta_fwhm**2/8./np.log(2.))\n",
    "            N_TT[l] = 1/N_TT[l]\n",
    "            N_EE[l] = 0\n",
    "            N_EE[l] += sP**-2 *\\\n",
    "                    np.exp(\n",
    "                        -l*(l+1)*theta_fwhm**2/8./np.log(2.))\n",
    "            N_EE[l] = 1/N_EE[l]\n",
    "N_TT[ell < l_min] = 1e100\n",
    "N_TT[ell > l_max] = 1e100\n",
    "N_EE[ell < l_min] = 1e100\n",
    "N_EE[ell > l_max] = 1e100"
   ]
  },
  {
   "cell_type": "code",
   "execution_count": 64,
   "metadata": {},
   "outputs": [
    {
     "data": {
      "text/plain": [
       "<matplotlib.legend.Legend at 0x1133dce20>"
      ]
     },
     "execution_count": 64,
     "metadata": {},
     "output_type": "execute_result"
    },
    {
     "data": {
      "image/png": "[encoded data removed]",
      "text/plain": [
       "<Figure size 432x288 with 1 Axes>"
      ]
     },
     "metadata": {
      "needs_background": "light"
     },
     "output_type": "display_data"
    }
   ],
   "source": [
    "#plt.plot(nl_tt , 'g-',label=\"nl_tt planck (unitless)\")\n",
    "plt.plot(nl_ee , 'b-',label=\"nl_ee planck (unitless)\")\n",
    "#plt.plot(N_TT , 'g--',label=\"nl_tt planck (unitless) mine\")\n",
    "plt.plot(N_EE , 'b--',label=\"nl_ee planck (unitless) mine\")\n",
    "plt.ylim(2e-20,2.5e-20)\n",
    "plt.legend(loc=\"upper right\")"
   ]
  },
  {
   "cell_type": "code",
   "execution_count": 65,
   "metadata": {},
   "outputs": [
    {
     "data": {
      "text/plain": [
       "<matplotlib.legend.Legend at 0x1132e20a0>"
      ]
     },
     "execution_count": 65,
     "metadata": {},
     "output_type": "execute_result"
    },
    {
     "data": {
      "image/png": "[encoded data removed]",
      "text/plain": [
       "<Figure size 432x288 with 1 Axes>"
      ]
     },
     "metadata": {
      "needs_background": "light"
     },
     "output_type": "display_data"
    }
   ],
   "source": [
    "plt.plot(nl_tt , 'g-',label=\"nl_tt planck (unitless)\")\n",
    "#plt.plot(nl_ee , 'b-',label=\"nl_ee planck (unitless)\")\n",
    "plt.plot(N_TT , 'g--',label=\"nl_tt planck (unitless) mine\")\n",
    "#plt.plot(N_EE , 'b--',label=\"nl_ee planck (unitless) mine\")\n",
    "plt.ylim(1e-22,0.4e-19)\n",
    "plt.legend(loc=\"upper right\")"
   ]
  },
  {
   "cell_type": "code",
   "execution_count": 66,
   "metadata": {},
   "outputs": [
    {
     "ename": "ValueError",
     "evalue": "operands could not be broadcast together with shapes (2501,) (5001,) ",
     "output_type": "error",
     "traceback": [
      "\u001b[0;31m---------------------------------------------------------------------------\u001b[0m",
      "\u001b[0;31mValueError\u001b[0m                                Traceback (most recent call last)",
      "\u001b[0;32m<ipython-input-66-8ddd917c7884>\u001b[0m in \u001b[0;36m<module>\u001b[0;34m\u001b[0m\n\u001b[0;32m----> 1\u001b[0;31m \u001b[0mplt\u001b[0m\u001b[0;34m.\u001b[0m\u001b[0mplot\u001b[0m\u001b[0;34m(\u001b[0m\u001b[0;36m100\u001b[0m\u001b[0;34m*\u001b[0m\u001b[0;34m(\u001b[0m\u001b[0mnl_ee\u001b[0m \u001b[0;34m-\u001b[0m \u001b[0mN_EE\u001b[0m \u001b[0;34m)\u001b[0m\u001b[0;34m/\u001b[0m\u001b[0mnl_ee\u001b[0m \u001b[0;34m,\u001b[0m \u001b[0;34m'g-'\u001b[0m\u001b[0;34m,\u001b[0m\u001b[0mlabel\u001b[0m\u001b[0;34m=\u001b[0m\u001b[0;34m\"nl_tt planck (unitless)\"\u001b[0m\u001b[0;34m)\u001b[0m\u001b[0;34m\u001b[0m\u001b[0;34m\u001b[0m\u001b[0m\n\u001b[0m\u001b[1;32m      2\u001b[0m \u001b[0mplt\u001b[0m\u001b[0;34m.\u001b[0m\u001b[0mylim\u001b[0m\u001b[0;34m(\u001b[0m\u001b[0;34m-\u001b[0m\u001b[0;36m3.5\u001b[0m\u001b[0;34m,\u001b[0m\u001b[0;36m1.5\u001b[0m\u001b[0;34m)\u001b[0m\u001b[0;34m\u001b[0m\u001b[0;34m\u001b[0m\u001b[0m\n\u001b[1;32m      3\u001b[0m \u001b[0mplt\u001b[0m\u001b[0;34m.\u001b[0m\u001b[0mxlim\u001b[0m\u001b[0;34m(\u001b[0m\u001b[0;36m100\u001b[0m\u001b[0;34m,\u001b[0m\u001b[0;36m2500\u001b[0m\u001b[0;34m)\u001b[0m\u001b[0;34m\u001b[0m\u001b[0;34m\u001b[0m\u001b[0m\n",
      "\u001b[0;31mValueError\u001b[0m: operands could not be broadcast together with shapes (2501,) (5001,) "
     ]
    }
   ],
   "source": [
    "plt.plot(100*(nl_ee - N_EE )/nl_ee , 'g-',label=\"nl_tt planck (unitless)\")\n",
    "plt.ylim(-3.5,1.5)\n",
    "plt.xlim(100,2500)"
   ]
  },
  {
   "cell_type": "code",
   "execution_count": 4,
   "metadata": {},
   "outputs": [
    {
     "data": {
      "image/png": "[encoded data removed]",
      "text/plain": [
       "<Figure size 432x288 with 1 Axes>"
      ]
     },
     "metadata": {
      "needs_background": "light"
     },
     "output_type": "display_data"
    }
   ],
   "source": [
    "plt.plot(nl_kk , 'g--',label=\"nl_kk planck (unitless)\")\n",
    "plt.plot(Cl_est_kk, 'k-',label=\"Cl_kk (unitless)\")\n",
    "plt.yscale('log')\n",
    "plt.xscale('log')\n",
    "plt.ylim(1e-22,1e-16)\n",
    "plt.xlim(20,2500)\n",
    "plt.legend(loc=\"upper right\")\n",
    "plt.title('Cl_kk + nl_kk  n=0 1 GeV')\n",
    "plt.show()"
   ]
  },
  {
   "cell_type": "code",
   "execution_count": 5,
   "metadata": {},
   "outputs": [
    {
     "name": "stderr",
     "output_type": "stream",
     "text": [
      "<ipython-input-5-2c3c476d4f8b>:5: RuntimeWarning: invalid value encountered in true_divide\n",
      "  frac_diff_tt = (aa_cl_tt - fiducial['tt'])/aa_cl_tt\n",
      "<ipython-input-5-2c3c476d4f8b>:6: RuntimeWarning: invalid value encountered in true_divide\n",
      "  frac_diff_ee = (aa_cl_ee - fiducial['ee'])/aa_cl_ee\n",
      "<ipython-input-5-2c3c476d4f8b>:7: RuntimeWarning: invalid value encountered in true_divide\n",
      "  frac_diff_pp = (aa_cl_pp - fiducial['pp'])/aa_cl_pp\n",
      "<ipython-input-5-2c3c476d4f8b>:8: RuntimeWarning: invalid value encountered in true_divide\n",
      "  frac_diff_kk = (aa_cl_kk - Cl_est_kk)/aa_cl_kk\n"
     ]
    },
    {
     "data": {
      "image/png": "[encoded data removed]",
      "text/plain": [
       "<Figure size 432x288 with 1 Axes>"
      ]
     },
     "metadata": {
      "needs_background": "light"
     },
     "output_type": "display_data"
    }
   ],
   "source": [
    "aa_cl_tt = np.load('MCMC_data/Cl_tt_n_0_1GeV.npy')/((1.0e6*Tcmb)**2)\n",
    "aa_cl_pp = np.load('MCMC_data/Cl_pp_n_0_1GeV.npy')/((1.0e6*Tcmb)**2)\n",
    "aa_cl_ee = np.load('MCMC_data/Cl_ee_n_0_1GeV.npy')/((1.0e6*Tcmb)**2)\n",
    "aa_cl_kk = np.load('MCMC_data/Cl_kk_n_0_1GeV.npy')/((1.0e6*Tcmb)**2)\n",
    "frac_diff_tt = (aa_cl_tt - fiducial['tt'])/aa_cl_tt\n",
    "frac_diff_ee = (aa_cl_ee - fiducial['ee'])/aa_cl_ee\n",
    "frac_diff_pp = (aa_cl_pp - fiducial['pp'])/aa_cl_pp\n",
    "frac_diff_kk = (aa_cl_kk - Cl_est_kk)/aa_cl_kk\n",
    "#plt.plot(aa_cl_tt, 'y--',label=\"AIZHAN tt\")\n",
    "#plt.plot(aa_cl_ee, 'r--',label=\"AIZHAN ee\")\n",
    "#plt.plot(fiducial['tt'], 'y-',label=\"Isabella tt\")\n",
    "#plt.plot(fiducial['ee'], 'r-',label=\"Isabella tt\")\n",
    "plt.plot(frac_diff_tt, 'b--',label=\"fractional difference tt\")\n",
    "plt.plot(frac_diff_ee, 'g-',label=\"fractional difference ee\")\n",
    "plt.plot(frac_diff_kk, 'r--',label=\"fractional difference kk\")\n",
    "#plt.yscale('log')\n",
    "#plt.ylim(5e-19,1e-15)\n",
    "plt.xlim(2,2500)\n",
    "plt.legend(loc=\"upper right\")\n",
    "#plt.title('C_l fractional difference')\n",
    "#plt.savefig(\"C_l_fraction_compare.png\")\n",
    "plt.show()"
   ]
  },
  {
   "cell_type": "code",
   "execution_count": 6,
   "metadata": {
    "scrolled": false
   },
   "outputs": [
    {
     "data": {
      "image/png": "[encoded data removed]",
      "text/plain": [
       "<Figure size 432x288 with 1 Axes>"
      ]
     },
     "metadata": {
      "needs_background": "light"
     },
     "output_type": "display_data"
    }
   ],
   "source": [
    "#fig, ax = plt.subplots(figsize=(9, 7))\n",
    "factor_est = (ell*(ell+1.)/2./math.pi)*((1.0e6*Tcmb)**2)\n",
    "plt.plot(factor_est*fiducial['tt'], 'y--',label=\"tt\")\n",
    "#plt.plot(fiducial['ee'], 'b--',label=\"ee\")\n",
    "#plt.plot(Cl_est_kk, 'r--',label=\"cl_kk\")\n",
    "#plt.plot(nl_tt, 'y-',label=\"noise tt\")\n",
    "#plt.plot(nl_ee, 'b-',label=\"noise ee\")\n",
    "#plt.plot(nl_kk, 'r--',label=\"noise kk\")\n",
    "#plt.yscale('log')\n",
    "#plt.ylim(1e-11,1e-9)\n",
    "plt.xlim(2,2500)\n",
    "plt.legend(loc=\"upper right\")\n",
    "plt.title('C_ls + noise S4 n=0 1 GeV')\n",
    "#plt.savefig(\"C_l_compare_n_0_1GeV_S4.png\")\n",
    "plt.show()"
   ]
  },
  {
   "cell_type": "code",
   "execution_count": 7,
   "metadata": {},
   "outputs": [
    {
     "data": {
      "image/png": "[encoded data removed]",
      "text/plain": [
       "<Figure size 432x288 with 1 Axes>"
      ]
     },
     "metadata": {
      "needs_background": "light"
     },
     "output_type": "display_data"
    }
   ],
   "source": [
    "#fig, ax = plt.subplots(figsize=(9, 7))\n",
    "factor_est = (ell*(ell+1.)/2./math.pi)*((1.0e6*Tcmb)**2)\n",
    "#plt.plot(factor_est*fiducial['tt'], 'y--',label=\"tt\")\n",
    "plt.plot(fiducial['ee']/1e-5 *((1.0e6*Tcmb)**2), 'b--',label=\"ee\")\n",
    "\n",
    "#plt.yscale('log')#plt.ylim(1e-11,1e-9)\n",
    "plt.xlim(2,2500)\n",
    "plt.ylim(2,100)\n",
    "plt.legend(loc=\"upper right\")\n",
    "plt.title('C_ls + noise S4 n=0 1 GeV')\n",
    "#plt.savefig(\"C_l_compare_n_0_1GeV_S4.png\")\n",
    "plt.show()"
   ]
  },
  {
   "cell_type": "code",
   "execution_count": null,
   "metadata": {},
   "outputs": [],
   "source": [
    "#For right and left C_l's:\n",
    "def utility_function_call_CLASS(input_dict, l_max=2500):\n",
    "    \"\"\"Compute Cl with this utility function, repeat less code.\"\"\"\n",
    "    cosmo = Class()\n",
    "    cosmo.set(input_dict)\n",
    "    cosmo.compute()\n",
    "    temp_cl = cosmo.raw_cl(l_max)\n",
    "    cosmo.struct_cleanup()\n",
    "    cosmo.empty()\n",
    "    return temp_cl"
   ]
  },
  {
   "cell_type": "code",
   "execution_count": null,
   "metadata": {},
   "outputs": [],
   "source": [
    "def compute_derivative(params, theta, XY, stepsize, fiduc):\n",
    "    left_params = params.copy()\n",
    "    if theta == 'sigma_dmb':\n",
    "        left_params[theta] = params[theta]\n",
    "        right_params = params.copy()\n",
    "        right_params[theta] = params[theta] + stepsize\n",
    "\n",
    "        # get the C_l^XY and then compute the derivative!\n",
    "        cl_XY_left = utility_function_call_CLASS(left_params)[XY]\n",
    "        cl_XY_right = utility_function_call_CLASS(right_params)[XY]\n",
    "        dClXY_dparam = (cl_XY_right - cl_XY_left) / (stepsize)\n",
    "    else:\n",
    "        left_params[theta] = params[theta] - stepsize\n",
    "        right_params = params.copy()\n",
    "        right_params[theta] = params[theta] + stepsize\n",
    "\n",
    "        # get the C_l^XY and then compute the derivative!\n",
    "        cl_XY_left = utility_function_call_CLASS(left_params)[XY]\n",
    "        cl_XY_right = utility_function_call_CLASS(right_params)[XY]\n",
    "        dClXY_dparam = (cl_XY_right - cl_XY_left) / (2 * stepsize)\n",
    "\n",
    "    return dClXY_dparam / fiduc[XY], dClXY_dparam\n",
    "\n",
    "def compute_d_cl(list_param_step, params, XY, fiducial):\n",
    "    der_map = {}\n",
    "    d_cl = {}\n",
    "    for (par, stepsize) in list_param_step:\n",
    "        norm_derivative, derivative = compute_derivative(params, par, XY, stepsize, fiducial)\n",
    "        der_map[par] = norm_derivative\n",
    "        d_cl[par] = derivative\n",
    "    return d_cl\n",
    "\n",
    "def compute_d_cl_der_map(list_param_step, params, XY, fiducial):\n",
    "    der_map = {}\n",
    "    d_cl = {}\n",
    "    for (par, stepsize) in list_param_step:\n",
    "        norm_derivative, derivative = compute_derivative(params, par, XY, stepsize, fiducial)\n",
    "        der_map[par] = norm_derivative\n",
    "        d_cl[par] = derivative\n",
    "    return d_cl, der_map"
   ]
  },
  {
   "cell_type": "code",
   "execution_count": null,
   "metadata": {},
   "outputs": [],
   "source": [
    "#Plotting Derivatives\n",
    "dict_params, dict_norm_der = compute_d_cl_der_map(list_param_step, params, 'tt', fiducial)\n",
    "fig, axs = plt.subplots(2, 4, figsize=(10,4))\n",
    "axs[0, 0].plot(dict_norm_der['omega_b'])\n",
    "axs[0, 0].set_title('omega_b')\n",
    "axs[0, 1].plot(dict_norm_der['omega_dmb'], 'tab:orange')\n",
    "axs[0, 1].set_title(r'$\\Omega_{dmb}$')\n",
    "axs[0, 2].plot(dict_norm_der['h'], 'tab:brown')\n",
    "axs[0, 2].set_title('h')\n",
    "axs[0, 3].plot(dict_norm_der['A_s'], 'tab:green')\n",
    "axs[0, 3].set_title('A_s')\n",
    "axs[1, 0].plot(dict_norm_der['n_s'], 'tab:purple')\n",
    "axs[1, 0].set_title(r'$n_s$')\n",
    "axs[1, 1].plot(dict_norm_der['tau_reio'], 'tab:red')\n",
    "axs[1, 1].set_title(r'$\\tau$')\n",
    "axs[1, 2].plot(dict_norm_der['sigma_dmb'], 'tab:red')\n",
    "axs[1, 2].set_title('sigma_dmb')\n",
    "for ax in axs.flat:\n",
    "    ax.set(xlabel=r'$\\ell$', ylabel=r'$(\\partial C_{\\ell}^{TT} / \\partial \\theta_i) / C_{\\ell}^{TT}$')\n",
    "# Hide x labels and tick labels for top plots and y ticks for right plots.\n",
    "for ax in axs.flat:\n",
    "    ax.label_outer()\n",
    "fig.savefig(\"fisher_plots/derivative_C_l_TT_{}GeV_n={}_S4.png\".format(str(dm_mass),str(n_power)))"
   ]
  },
  {
   "cell_type": "code",
   "execution_count": null,
   "metadata": {},
   "outputs": [],
   "source": [
    "print(\"--- %s seconds ---\" % (time.time() - start_time))"
   ]
  },
  {
   "cell_type": "code",
   "execution_count": null,
   "metadata": {},
   "outputs": [],
   "source": [
    "plt.plot(nl_tt, '-',label=\"N_TT\")\n",
    "plt.plot(nl_ee  , '-',label=\"N_EE\")\n",
    "plt.plot(nl_kk , '-',label=\"N_kk\")\n",
    "#plt.plot(N_EE*((1.0e6*Tcmb)**2) , '-',label=\"Polarization Noise\")\n",
    "#plt.plot(N_KK*((1.0e6*Tcmb)**2) , '--',label=\"Lensing Noise\")\n",
    "plt.yscale('log')\n",
    "plt.ylim(5e-23,1e-19)\n",
    "plt.xlim(2,2500)\n",
    "plt.legend(loc=\"upper right\")\n",
    "plt.title('Noise (normalized)')\n",
    "plt.show()"
   ]
  },
  {
   "cell_type": "markdown",
   "metadata": {},
   "source": [
    "We need:\n",
    " \n",
    "$$ F_{ij} = \\sum_{\\ell} \\frac{2 \\ell + 1}{2} f_{\\mathrm{sky}} \\mathrm{Tr}\\,\\left( \\mathbf{C}_{\\ell}^{-1} \\frac{\\partial \\mathbf{C}_{\\ell}}{\\partial \\theta_i} \\mathbf{C}_{\\ell}^{-1} \\frac{\\mathbf{C}_{\\ell}}{\\partial \\theta_j} \\right)$$\n",
    "[Wu et al. 2014](https://arxiv.org/abs/1402.4108)\n",
    "\n",
    "\n",
    "Computing $C_l$ only using temperature power spectrum for planck baseline. \n",
    "\n",
    "$$ \\mathbf{C}_{\\ell} \\equiv \n",
    "  \\left( {\\begin{array}{cc}\n",
    "   C_{\\ell}^{TT} + N_{\\ell}^{TT} & C_{\\ell}^{TE} & 0 \\\\\n",
    "   C_{\\ell}^{TE} & C_{\\ell}^{EE} + N_{\\ell}^{EE} & 0 \\\\\n",
    "   0 & 0 & C_{\\ell}^{\\kappa\\kappa} + N_{\\ell}^{\\kappa\\kappa} \\\\\n",
    "  \\end{array} } \\right)\n",
    " $$\n",
    "\n",
    "Let :\n",
    "$$   \\mathbf{Q}^{i}_{nm} =\\, \\left( {C}_{\\ell}^{-1} \\frac{\\partial \\mathbf{C}_{\\ell}}{\\partial \\theta_i} \\right)  =\n",
    "  \\left( {\\begin{array}{cc}\n",
    "    C_{\\ell}^{TT} + N_{\\ell}^{TT} & C_{\\ell}^{TE} & 0 \\\\\n",
    "   C_{\\ell}^{TE} & C_{\\ell}^{EE} + N_{\\ell}^{EE} & 0 \\\\\n",
    "   0 & 0 & C_{\\ell}^{\\kappa\\kappa} + N_{\\ell}^{\\kappa\\kappa} \\\\\n",
    "  \\end{array} } \\right)^{-1}\n",
    "   \\left( {\\begin{array}{cc}\n",
    "    \\frac{\\partial C_{\\ell}^{TT}}{\\partial \\theta_i } & \\frac{\\partial C_{\\ell}^{TE}}{\\partial \\theta_i } & 0 \\\\\n",
    "   \\frac{\\partial C_{\\ell}^{TE}}{\\partial \\theta_i } &\\frac{\\partial C_{\\ell}^{EE}}{\\partial \\theta_i } & 0 \\\\\n",
    "    0 & 0 & \\frac{\\partial C_{\\ell}^{\\kappa\\kappa}}{\\partial \\theta_i } \\\\\n",
    "  \\end{array} } \\right)\n",
    "$$\n",
    "So that:\n",
    "$$  F_{ij} = \\sum_{\\ell} \\frac{2 \\ell + 1}{2} f_{\\mathrm{sky}} \\mathrm{Tr}\\,\\left[  \\mathbf{Q}_{i}  \\mathbf{Q}_{j} \\right]\n",
    "$$"
   ]
  },
  {
   "cell_type": "code",
   "execution_count": null,
   "metadata": {},
   "outputs": [],
   "source": [
    "dC_lpp = compute_d_cl(list_param_step, params, 'pp', fiducial)"
   ]
  },
  {
   "cell_type": "code",
   "execution_count": null,
   "metadata": {},
   "outputs": [],
   "source": [
    "dC_lkk = {}\n",
    "for k, array in dC_lpp.items():\n",
    "    list_a = []\n",
    "    for l, a in enumerate(array):\n",
    "        if l < 2:\n",
    "            list_a.append(0)\n",
    "        else:\n",
    "            list_a.append((1.0/4) * (math.factorial(l+2)/math.factorial(l-2)) * a)        \n",
    "    dC_lkk[k] = np.array(list_a)\n",
    "#print(dC_lkk)"
   ]
  },
  {
   "cell_type": "code",
   "execution_count": null,
   "metadata": {},
   "outputs": [],
   "source": [
    "MAT_d_cl = [ \n",
    "            [compute_d_cl(list_param_step, params, 'tt', fiducial), compute_d_cl(list_param_step, params, 'te', fiducial), 0],\n",
    "            [compute_d_cl(list_param_step, params, 'te', fiducial), compute_d_cl(list_param_step, params, 'ee', fiducial), 0],\n",
    "            [0, 0, dC_lkk]\n",
    "           ]\n",
    "\n",
    "MAT_cl = [ [fiducial['tt'] + nl_tt, fiducial['te'], 0], \n",
    "           [fiducial['te'], fiducial['ee'] + nl_ee, 0],\n",
    "           [0, 0,  Cl_est_kk + nl_kk] ]"
   ]
  },
  {
   "cell_type": "code",
   "execution_count": null,
   "metadata": {},
   "outputs": [],
   "source": [
    "#for i in list_param:\n",
    "def compute_Q_i(i, l):\n",
    "    d_Cl_i = [[MAT_d_cl[0][0][i][l], MAT_d_cl[0][1][i][l], 0], \n",
    "              [MAT_d_cl[1][0][i][l], MAT_d_cl[1][1][i][l], 0],\n",
    "              [0, 0, MAT_d_cl[2][2][i][l]]]\n",
    "    \n",
    "    cl = [[MAT_cl[0][0][l], MAT_cl[0][1][l], 0],\n",
    "          [MAT_cl[1][0][l], MAT_cl[1][1][l], 0],\n",
    "          [0, 0, MAT_cl[2][2][l]]]\n",
    "    Q_i = np.matmul(inv(cl), d_Cl_i)\n",
    "    return Q_i\n",
    "\n",
    "def compute_F_ij(i, j):\n",
    "    F_ij = 0\n",
    "    for l in range(2, 2500):\n",
    "        F_ij += 0.5*(2*l + 1) *f_sky * np.trace(np.matmul(compute_Q_i(i, l), compute_Q_i(j, l)))\n",
    "    return F_ij"
   ]
  },
  {
   "cell_type": "code",
   "execution_count": null,
   "metadata": {},
   "outputs": [],
   "source": [
    "F =[]\n",
    "for x in list_param:\n",
    "    row = []\n",
    "    for y in list_param:\n",
    "        row.append(compute_F_ij(x, y))\n",
    "    F.append(row)\n",
    "    \n",
    "covar = inv(F)\n",
    "for n, i in enumerate(list_param):\n",
    "    sigma_ii = np.sqrt(covar[n][n])\n",
    "    print(i, sigma_ii)"
   ]
  },
  {
   "cell_type": "code",
   "execution_count": null,
   "metadata": {},
   "outputs": [],
   "source": [
    "print(F)"
   ]
  },
  {
   "cell_type": "code",
   "execution_count": null,
   "metadata": {},
   "outputs": [],
   "source": [
    "import fishchips.util\n",
    "cov = np.linalg.inv(F)\n",
    "fig, axes = fishchips.util.plot_triangle_base(list_param, list_fiducial, covar, labels=list_param);\n",
    "fig.savefig(\"fisher_plots/triagular_ellipses_{}GeV_n={}_S4.png\".format(str(dm_mass),str(n_power)))\n"
   ]
  },
  {
   "cell_type": "code",
   "execution_count": null,
   "metadata": {},
   "outputs": [],
   "source": [
    "dat = ('n-power=',n_power,'dm_mass=', dm_mass, 'stepsize =', step_size_cross_section,'fisher matrix =', F,i, \"from cov matrix =\",sigma_ii,\"2-sigma =\" ,sigma_ii*2.48,\"2-sigma zack's method =\")"
   ]
  },
  {
   "cell_type": "code",
   "execution_count": null,
   "metadata": {},
   "outputs": [],
   "source": [
    "print(dat)"
   ]
  },
  {
   "cell_type": "code",
   "execution_count": null,
   "metadata": {},
   "outputs": [],
   "source": [
    "outF = open(\"fisher_data/S4_n={}/{}GeV.txt\".format(str(n_power),str(dm_mass)), \"w\")\n",
    "\n",
    "for i in dat:\n",
    "  # write line to output file\n",
    "  outF.write(str(i))\n",
    "  outF.write(\"\\n\")\n",
    "outF.close()"
   ]
  },
  {
   "cell_type": "code",
   "execution_count": null,
   "metadata": {},
   "outputs": [],
   "source": [
    "print(\"--- %s seconds ---\" % (time.time() - start_time))"
   ]
  },
  {
   "cell_type": "code",
   "execution_count": null,
   "metadata": {},
   "outputs": [],
   "source": []
  },
  {
   "cell_type": "code",
   "execution_count": null,
   "metadata": {},
   "outputs": [],
   "source": []
  }
 ],
 "metadata": {
  "kernelspec": {
   "display_name": "Python 3",
   "language": "python",
   "name": "python3"
  },
  "language_info": {
   "codemirror_mode": {
    "name": "ipython",
    "version": 3
   },
   "file_extension": ".py",
   "mimetype": "text/x-python",
   "name": "python",
   "nbconvert_exporter": "python",
   "pygments_lexer": "ipython3",
   "version": "3.8.3"
  }
 },
 "nbformat": 4,
 "nbformat_minor": 4
}
